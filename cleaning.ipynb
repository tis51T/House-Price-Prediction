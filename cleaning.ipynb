{
 "cells": [
  {
   "cell_type": "markdown",
   "metadata": {},
   "source": [
    "<h1><b>A. Nhập</b></h1>\n",
    "\n",
    "<h3><b>1. Tải các thư viên</b></h3>"
   ]
  },
  {
   "cell_type": "code",
   "execution_count": 1,
   "metadata": {},
   "outputs": [],
   "source": [
    "import pandas as pd\n",
    "import numpy as np\n",
    "import re\n",
    "import matplotlib.pyplot as plt "
   ]
  },
  {
   "cell_type": "markdown",
   "metadata": {},
   "source": [
    "<h3><b>2. Tải data"
   ]
  },
  {
   "cell_type": "code",
   "execution_count": 2,
   "metadata": {},
   "outputs": [],
   "source": [
    "post_data = pd.read_csv('./dataset/csv_data/post_data.csv')\n",
    "content_data = pd.read_csv('./dataset/csv_data/content_data.csv')\n",
    "title_data = pd.read_csv('./dataset/csv_data/title_data.csv')\n",
    "\n",
    "cleaned_data = pd.DataFrame() # Lưu kết quả cuối vào đây\n",
    "\n",
    "cleaned_data['post_code'] = post_data['post_code']\n",
    "cleaned_data['post_date'] = post_data['post_date']\n",
    "\n",
    "cleaned_data[\"content\"] = post_data[\"content\"]\n",
    "cleaned_data[\"title\"] = post_data[\"title\"]\n",
    "\n",
    "cleaned_data[\"c_rent\"] = content_data[\"rent\"]\n",
    "cleaned_data[\"t_rent\"] = title_data[\"rent\"]\n",
    "\n",
    "cleaned_data[\"c_hurried\"] = content_data[\"hurried\"]\n",
    "cleaned_data[\"t_hurried\"] = title_data[\"hurried\"]\n",
    "\n",
    "cleaned_data[\"district\"] = post_data[\"district\"]\n",
    "cleaned_data[\"house_type\"] = post_data[\"type\"]"
   ]
  },
  {
   "cell_type": "markdown",
   "metadata": {},
   "source": [
    "<h1><b>B. Replacing and Cleaning"
   ]
  },
  {
   "cell_type": "markdown",
   "metadata": {},
   "source": [
    "Ở phần này, ta sẽ thay thế các data bị thiếu ở tập `main_data`, với thứ tự ưu tiên là `c_data` rồi `t_data`, vì các dữ liệu trong content sẽ được ghi chi tiết và đầy đủ hơn so với title.\n",
    "Nếu như cả `c_data` và `t_data` đều trống, ta trả về `None` ở `main_data`"
   ]
  },
  {
   "cell_type": "code",
   "execution_count": 3,
   "metadata": {},
   "outputs": [],
   "source": [
    "def replace_value(post, content, title):\n",
    "    # Tạo màng gạt các giá trị null\n",
    "    temp = content.copy()\n",
    "    content_mask = content[content.isnull()].index.values\n",
    "    \n",
    "    title = title.loc[content_mask]    \n",
    "    title_mask = title[title.isnull()].index.values\n",
    "\n",
    "    title.loc[title_mask] = post.loc[title_mask]\n",
    "    temp.loc[content_mask] = title.loc[content_mask]\n",
    "\n",
    "    return temp"
   ]
  },
  {
   "cell_type": "markdown",
   "metadata": {},
   "source": [
    "<h3><b>1. Price"
   ]
  },
  {
   "cell_type": "markdown",
   "metadata": {},
   "source": [
    "Đối với giá tiền, trường hợp để trống dữ liệu sẽ không xảy ra, thay vào đó là \"Thỏa thuận\". Ngoài ra còn có các trường hợp nhập dư số không như 3899000000 tỷ hoặc 4500000 tỷ nhưng thực tế là 3.889 tỷ hoặc 4.5 tỷ"
   ]
  },
  {
   "cell_type": "markdown",
   "metadata": {},
   "source": [
    "Giá trị của `price` nằm trong khoảng từ `1` đến nhỉnh hơn `1e+12`, trong đó từ giá trị từ `1` đến trước `200` sẽ được coi là chấp nhận được, các khoảng còn lại là bị lỗi nhập liệu. Cách sửa lỗi như sau:\n",
    "- Từ `200` đến trước `1e6`: khoảng này rất đa dạng lỗi, nên sẽ không sửa và trả giá trị `None`\n",
    "- Từ `1e6` đến trước `1e9`: khoảng nãy do người đăng nhập thêm 6 số 0, sửa bằng cách chia cho 1e6\n",
    "- Từ `1e9` đến trước `1e12`: khoảng nãy do người đăng nhập thêm 9 số 0, sửa bằng cách chia cho 1e9\n",
    "- `1e12` trở lên: khoảng nãy do người đăng nhập thêm 12 số 0, sửa bằng cách chia cho 1e12"
   ]
  },
  {
   "cell_type": "code",
   "execution_count": 4,
   "metadata": {},
   "outputs": [],
   "source": [
    "def get_valid_price(price, thres = 350):\n",
    "    if price != None:\n",
    "        is_billions = re.search(r'(tỷ|tỉ)', str(price))        \n",
    "        if not is_billions:\n",
    "            has_number = re.search(r'\\d+', str(price))\n",
    "            if has_number:\n",
    "                number = float(re.search(r'\\d+', str(price)).group())\n",
    "                if number > thres:\n",
    "                    return price\n",
    "                else:\n",
    "                    return None\n",
    "    return price"
   ]
  },
  {
   "cell_type": "code",
   "execution_count": 5,
   "metadata": {},
   "outputs": [],
   "source": [
    "def clean_price(price, x=5):\n",
    "    if type(price) == str:\n",
    "        is_billions = re.search(r'(tỷ|tỉ)', price)\n",
    "        \n",
    "        if is_billions:\n",
    "            normal_format = re.search(r'(\\d+(\\.\\d+)?|\\d+(\\,\\d+)?)', price)\n",
    "            if normal_format:\n",
    "                number = float(normal_format.group().replace(',', '.').replace('x', f'{x}'))\n",
    "                # xử lý các trường hợp nhập dư số không\n",
    "                if number > 1e+12:\n",
    "                    number = number / 1e+12\n",
    "                elif number < 1e+12 and number >= 1e+9:\n",
    "                    number = number / 1e+9\n",
    "                elif number < 1e+9 and number >= 1e+6:\n",
    "                    number = number / 1e+6\n",
    "                elif number >= 200 and number < 1e+6:\n",
    "                    number = None\n",
    "                return number\n",
    "            else:\n",
    "                number = float(price.replace(' ','').replace('tỷ','.').replace('tỉ','.'))\n",
    "                return number\n",
    "\n",
    "        elif not is_billions:\n",
    "            is_millions = re.search(r'triệu', price)\n",
    "            if is_millions:\n",
    "                number = float(price.replace('triệu', '.').replace(' ', ''))\n",
    "                return number / 1e+3\n",
    "\n",
    "    return np.nan"
   ]
  },
  {
   "cell_type": "code",
   "execution_count": 6,
   "metadata": {},
   "outputs": [],
   "source": [
    "post_price = post_data['price'].apply(get_valid_price)\n",
    "content_price = content_data['price'].apply(get_valid_price)\n",
    "title_price = title_data['price'].apply(get_valid_price)\n",
    "\n",
    "cleaned_data[\"price\"] = replace_value(post_price, content_price, title_price)\n",
    "cleaned_data[\"price\"] = cleaned_data[\"price\"].apply(clean_price)"
   ]
  },
  {
   "cell_type": "markdown",
   "metadata": {},
   "source": [
    "<h3><b>2. Square</h3>"
   ]
  },
  {
   "cell_type": "code",
   "execution_count": 7,
   "metadata": {},
   "outputs": [],
   "source": [
    "post_square = post_data['square']\n",
    "content_square = content_data['square']\n",
    "title_square = title_data['square']\n",
    "\n",
    "cleaned_data[\"square\"] = replace_value(post_square, content_square, title_square)"
   ]
  },
  {
   "cell_type": "markdown",
   "metadata": {},
   "source": [
    "<h3><b>3. Bedroom </h3>"
   ]
  },
  {
   "cell_type": "code",
   "execution_count": 8,
   "metadata": {},
   "outputs": [],
   "source": [
    "post_bedroom = post_data['bedroom']\n",
    "content_bedroom = content_data['bedrooms']\n",
    "title_bedroom = title_data['bedrooms']\n",
    "\n",
    "cleaned_data[\"bedroom\"] = replace_value(post_bedroom, content_bedroom, title_bedroom)"
   ]
  },
  {
   "cell_type": "markdown",
   "metadata": {},
   "source": [
    "<h3><b>4. Bathroom</h3>"
   ]
  },
  {
   "cell_type": "code",
   "execution_count": 9,
   "metadata": {},
   "outputs": [],
   "source": [
    "post_bathroom = post_data['bathroom']\n",
    "content_bathroom = content_data['bathrooms']\n",
    "title_bathroom = title_data['bathrooms']\n",
    "\n",
    "cleaned_data[\"bathroom\"] = replace_value(post_bathroom, content_bathroom, title_bathroom)"
   ]
  },
  {
   "cell_type": "markdown",
   "metadata": {},
   "source": [
    "<h3><b>5. House direction</h3>"
   ]
  },
  {
   "cell_type": "code",
   "execution_count": 10,
   "metadata": {},
   "outputs": [],
   "source": [
    "post_house_direction = post_data['house_direction']\n",
    "content_house_direction = content_data['house_direction']\n",
    "title_house_direction = title_data['house_direction']\n",
    "\n",
    "post_house_direction = post_house_direction.apply(lambda x: x.lower() if x is not np.nan else x)\n",
    "cleaned_data[\"house_direction\"] = replace_value(post_house_direction, content_house_direction, title_house_direction)"
   ]
  },
  {
   "cell_type": "markdown",
   "metadata": {},
   "source": [
    "<h3><b>6. Balcony</h3>"
   ]
  },
  {
   "cell_type": "code",
   "execution_count": 11,
   "metadata": {},
   "outputs": [
    {
     "name": "stderr",
     "output_type": "stream",
     "text": [
      "C:\\Users\\dangm\\AppData\\Local\\Temp\\ipykernel_2436\\3251895919.py:9: FutureWarning: Setting an item of incompatible dtype is deprecated and will raise an error in a future version of pandas. Value '[]' has dtype incompatible with bool, please explicitly cast to a compatible dtype first.\n",
      "  title.loc[title_mask] = post.loc[title_mask]\n",
      "C:\\Users\\dangm\\AppData\\Local\\Temp\\ipykernel_2436\\3251895919.py:10: FutureWarning: Setting an item of incompatible dtype is deprecated and will raise an error in a future version of pandas. Value '[]' has dtype incompatible with bool, please explicitly cast to a compatible dtype first.\n",
      "  temp.loc[content_mask] = title.loc[content_mask]\n"
     ]
    }
   ],
   "source": [
    "post_balcony = post_data['balcony']\n",
    "content_balcony = content_data['balcony']\n",
    "title_balcony = title_data['balcony']\n",
    "\n",
    "cleaned_data[\"has_balcony\"] = replace_value(post_balcony, content_balcony, title_balcony)"
   ]
  },
  {
   "cell_type": "markdown",
   "metadata": {},
   "source": [
    "<h3><b>7. Furniture</h3>"
   ]
  },
  {
   "cell_type": "code",
   "execution_count": 12,
   "metadata": {},
   "outputs": [
    {
     "name": "stderr",
     "output_type": "stream",
     "text": [
      "C:\\Users\\dangm\\AppData\\Local\\Temp\\ipykernel_2436\\3251895919.py:9: FutureWarning: Setting an item of incompatible dtype is deprecated and will raise an error in a future version of pandas. Value '[]' has dtype incompatible with bool, please explicitly cast to a compatible dtype first.\n",
      "  title.loc[title_mask] = post.loc[title_mask]\n",
      "C:\\Users\\dangm\\AppData\\Local\\Temp\\ipykernel_2436\\3251895919.py:10: FutureWarning: Setting an item of incompatible dtype is deprecated and will raise an error in a future version of pandas. Value '[]' has dtype incompatible with bool, please explicitly cast to a compatible dtype first.\n",
      "  temp.loc[content_mask] = title.loc[content_mask]\n"
     ]
    }
   ],
   "source": [
    "post_furniture = post_data['furniture']\n",
    "content_furniture = content_data['furniture']\n",
    "title_furniture = title_data['furniture']\n",
    "\n",
    "cleaned_data[\"has_furniture\"] = replace_value(post_furniture, content_furniture, title_furniture)"
   ]
  },
  {
   "cell_type": "markdown",
   "metadata": {},
   "source": [
    "<h3><b>8. Legal information</h3>"
   ]
  },
  {
   "cell_type": "code",
   "execution_count": 13,
   "metadata": {},
   "outputs": [
    {
     "name": "stderr",
     "output_type": "stream",
     "text": [
      "C:\\Users\\dangm\\AppData\\Local\\Temp\\ipykernel_2436\\3251895919.py:9: FutureWarning: Setting an item of incompatible dtype is deprecated and will raise an error in a future version of pandas. Value '[]' has dtype incompatible with bool, please explicitly cast to a compatible dtype first.\n",
      "  title.loc[title_mask] = post.loc[title_mask]\n",
      "C:\\Users\\dangm\\AppData\\Local\\Temp\\ipykernel_2436\\3251895919.py:10: FutureWarning: Setting an item of incompatible dtype is deprecated and will raise an error in a future version of pandas. Value '[]' has dtype incompatible with bool, please explicitly cast to a compatible dtype first.\n",
      "  temp.loc[content_mask] = title.loc[content_mask]\n"
     ]
    }
   ],
   "source": [
    "post_legal_info = post_data['legal_info']\n",
    "content_legal_info = content_data['legal_info']\n",
    "title_legal_info = title_data['legal_info']\n",
    "\n",
    "cleaned_data[\"has_legal_info\"] = replace_value(post_legal_info, content_legal_info, title_legal_info)"
   ]
  },
  {
   "cell_type": "markdown",
   "metadata": {},
   "source": [
    "<h3><b>9. Hurried</h3>"
   ]
  },
  {
   "cell_type": "code",
   "execution_count": 14,
   "metadata": {},
   "outputs": [],
   "source": [
    "is_hurried_mask = cleaned_data[(cleaned_data[\"c_hurried\"] == True) | (cleaned_data[\"t_hurried\"] == True)].index.values\n",
    "cleaned_data[\"is_hurried\"] = False\n",
    "cleaned_data.loc[is_hurried_mask, \"is_hurried\"] = True"
   ]
  },
  {
   "cell_type": "code",
   "execution_count": 15,
   "metadata": {},
   "outputs": [
    {
     "data": {
      "text/html": [
       "<div>\n",
       "<style scoped>\n",
       "    .dataframe tbody tr th:only-of-type {\n",
       "        vertical-align: middle;\n",
       "    }\n",
       "\n",
       "    .dataframe tbody tr th {\n",
       "        vertical-align: top;\n",
       "    }\n",
       "\n",
       "    .dataframe thead th {\n",
       "        text-align: right;\n",
       "    }\n",
       "</style>\n",
       "<table border=\"1\" class=\"dataframe\">\n",
       "  <thead>\n",
       "    <tr style=\"text-align: right;\">\n",
       "      <th></th>\n",
       "      <th>post_code</th>\n",
       "      <th>post_date</th>\n",
       "      <th>content</th>\n",
       "      <th>title</th>\n",
       "      <th>c_rent</th>\n",
       "      <th>t_rent</th>\n",
       "      <th>c_hurried</th>\n",
       "      <th>t_hurried</th>\n",
       "      <th>district</th>\n",
       "      <th>house_type</th>\n",
       "      <th>price</th>\n",
       "      <th>square</th>\n",
       "      <th>bedroom</th>\n",
       "      <th>bathroom</th>\n",
       "      <th>house_direction</th>\n",
       "      <th>has_balcony</th>\n",
       "      <th>has_furniture</th>\n",
       "      <th>has_legal_info</th>\n",
       "      <th>is_hurried</th>\n",
       "    </tr>\n",
       "  </thead>\n",
       "  <tbody>\n",
       "    <tr>\n",
       "      <th>0</th>\n",
       "      <td>285164</td>\n",
       "      <td>[datetime.datetime(2023, 12, 10, 17, 11)]</td>\n",
       "      <td>Mô tả: \\n+ Thông số cực đẹp 5 x 30m (150m2)...</td>\n",
       "      <td>Chưa tới 30tr/m2 - Hàng ngộp bank BAO ĐẦU TƯ ...</td>\n",
       "      <td>False</td>\n",
       "      <td>False</td>\n",
       "      <td>True</td>\n",
       "      <td>False</td>\n",
       "      <td>Nhà Bè</td>\n",
       "      <td>Nhà riêng</td>\n",
       "      <td>2.20</td>\n",
       "      <td>150.0</td>\n",
       "      <td>2.0</td>\n",
       "      <td>1.0</td>\n",
       "      <td>đông</td>\n",
       "      <td>False</td>\n",
       "      <td>False</td>\n",
       "      <td>True</td>\n",
       "      <td>True</td>\n",
       "    </tr>\n",
       "    <tr>\n",
       "      <th>1</th>\n",
       "      <td>285163</td>\n",
       "      <td>[datetime.datetime(2023, 12, 10, 18, 40)]</td>\n",
       "      <td>Bán nhà HXH Âu Cơ Phường 9 Tân Bình, 51m2 3 Tầ...</td>\n",
       "      <td>Bán nhà HXH Âu Cơ Phường 9 Tân Bình, 51m2 3 Tầ...</td>\n",
       "      <td>False</td>\n",
       "      <td>False</td>\n",
       "      <td>False</td>\n",
       "      <td>False</td>\n",
       "      <td>Tân Bình</td>\n",
       "      <td>Nhà riêng</td>\n",
       "      <td>5.00</td>\n",
       "      <td>51.0</td>\n",
       "      <td>NaN</td>\n",
       "      <td>NaN</td>\n",
       "      <td>bắc</td>\n",
       "      <td>False</td>\n",
       "      <td>False</td>\n",
       "      <td>True</td>\n",
       "      <td>False</td>\n",
       "    </tr>\n",
       "    <tr>\n",
       "      <th>2</th>\n",
       "      <td>285162</td>\n",
       "      <td>[datetime.datetime(2023, 12, 10, 18, 56)]</td>\n",
       "      <td>- Kết cấu: 1 trệt 1 lầu BTCT; 2 PN, 2 WC. Phòn...</td>\n",
       "      <td>SÁT MẶT TIỀN PHAN ĐĂNG LƯU, PHƯỜNG 7, PHÚ NHUẬ...</td>\n",
       "      <td>False</td>\n",
       "      <td>False</td>\n",
       "      <td>False</td>\n",
       "      <td>False</td>\n",
       "      <td>Phú Nhuận</td>\n",
       "      <td>Nhà</td>\n",
       "      <td>4.00</td>\n",
       "      <td>45.0</td>\n",
       "      <td>2.0</td>\n",
       "      <td>2.0</td>\n",
       "      <td>NaN</td>\n",
       "      <td>True</td>\n",
       "      <td>False</td>\n",
       "      <td>True</td>\n",
       "      <td>False</td>\n",
       "    </tr>\n",
       "    <tr>\n",
       "      <th>3</th>\n",
       "      <td>285161</td>\n",
       "      <td>[datetime.datetime(2023, 12, 10, 20, 49)]</td>\n",
       "      <td>Mô tả:\\n- Diện tích công nhận 41m, thực tế 66m...</td>\n",
       "      <td>CHỦ GẤP BÁN TRƯỚC TẾT LÊ HỒNG PHONG QUẬN 5 RA ...</td>\n",
       "      <td>True</td>\n",
       "      <td>False</td>\n",
       "      <td>False</td>\n",
       "      <td>True</td>\n",
       "      <td>Quận 5</td>\n",
       "      <td>Nhà riêng</td>\n",
       "      <td>7.35</td>\n",
       "      <td>41.0</td>\n",
       "      <td>NaN</td>\n",
       "      <td>NaN</td>\n",
       "      <td>NaN</td>\n",
       "      <td>False</td>\n",
       "      <td>False</td>\n",
       "      <td>True</td>\n",
       "      <td>True</td>\n",
       "    </tr>\n",
       "    <tr>\n",
       "      <th>4</th>\n",
       "      <td>285159</td>\n",
       "      <td>[datetime.datetime(2023, 12, 7, 14, 13)]</td>\n",
       "      <td>- Diện tích 96m2 ngang 4.3m dài 22.5m .\\n- sổ ...</td>\n",
       "      <td>LŨY BÁN BÍCH,TÂN PHÚ-DIỆN TÍCH KHỦNG 96M2 ( 4....</td>\n",
       "      <td>False</td>\n",
       "      <td>False</td>\n",
       "      <td>False</td>\n",
       "      <td>False</td>\n",
       "      <td>Tân Phú</td>\n",
       "      <td>Nhà riêng</td>\n",
       "      <td>5.00</td>\n",
       "      <td>96.0</td>\n",
       "      <td>2.0</td>\n",
       "      <td>1.0</td>\n",
       "      <td>NaN</td>\n",
       "      <td>False</td>\n",
       "      <td>False</td>\n",
       "      <td>True</td>\n",
       "      <td>False</td>\n",
       "    </tr>\n",
       "  </tbody>\n",
       "</table>\n",
       "</div>"
      ],
      "text/plain": [
       "   post_code                                  post_date  \\\n",
       "0     285164  [datetime.datetime(2023, 12, 10, 17, 11)]   \n",
       "1     285163  [datetime.datetime(2023, 12, 10, 18, 40)]   \n",
       "2     285162  [datetime.datetime(2023, 12, 10, 18, 56)]   \n",
       "3     285161  [datetime.datetime(2023, 12, 10, 20, 49)]   \n",
       "4     285159   [datetime.datetime(2023, 12, 7, 14, 13)]   \n",
       "\n",
       "                                             content  \\\n",
       "0  Mô tả: \\n+ Thông số cực đẹp 5 x 30m (150m2)...   \n",
       "1  Bán nhà HXH Âu Cơ Phường 9 Tân Bình, 51m2 3 Tầ...   \n",
       "2  - Kết cấu: 1 trệt 1 lầu BTCT; 2 PN, 2 WC. Phòn...   \n",
       "3  Mô tả:\\n- Diện tích công nhận 41m, thực tế 66m...   \n",
       "4  - Diện tích 96m2 ngang 4.3m dài 22.5m .\\n- sổ ...   \n",
       "\n",
       "                                               title  c_rent  t_rent  \\\n",
       "0  Chưa tới 30tr/m2 - Hàng ngộp bank BAO ĐẦU TƯ ...   False   False   \n",
       "1  Bán nhà HXH Âu Cơ Phường 9 Tân Bình, 51m2 3 Tầ...   False   False   \n",
       "2  SÁT MẶT TIỀN PHAN ĐĂNG LƯU, PHƯỜNG 7, PHÚ NHUẬ...   False   False   \n",
       "3  CHỦ GẤP BÁN TRƯỚC TẾT LÊ HỒNG PHONG QUẬN 5 RA ...    True   False   \n",
       "4  LŨY BÁN BÍCH,TÂN PHÚ-DIỆN TÍCH KHỦNG 96M2 ( 4....   False   False   \n",
       "\n",
       "   c_hurried  t_hurried   district house_type  price  square  bedroom  \\\n",
       "0       True      False     Nhà Bè  Nhà riêng   2.20   150.0      2.0   \n",
       "1      False      False   Tân Bình  Nhà riêng   5.00    51.0      NaN   \n",
       "2      False      False  Phú Nhuận        Nhà   4.00    45.0      2.0   \n",
       "3      False       True     Quận 5  Nhà riêng   7.35    41.0      NaN   \n",
       "4      False      False    Tân Phú  Nhà riêng   5.00    96.0      2.0   \n",
       "\n",
       "   bathroom house_direction has_balcony has_furniture has_legal_info  \\\n",
       "0       1.0            đông       False         False           True   \n",
       "1       NaN             bắc       False         False           True   \n",
       "2       2.0             NaN        True         False           True   \n",
       "3       NaN             NaN       False         False           True   \n",
       "4       1.0             NaN       False         False           True   \n",
       "\n",
       "   is_hurried  \n",
       "0        True  \n",
       "1       False  \n",
       "2       False  \n",
       "3        True  \n",
       "4       False  "
      ]
     },
     "execution_count": 15,
     "metadata": {},
     "output_type": "execute_result"
    }
   ],
   "source": [
    "cleaned_data.head()"
   ]
  },
  {
   "cell_type": "markdown",
   "metadata": {},
   "source": [
    "<h1><b>C. Loại bỏ giá trị nhiễu</h1>"
   ]
  },
  {
   "cell_type": "markdown",
   "metadata": {},
   "source": [
    "<h3><b>1. Data lặp</h3>"
   ]
  },
  {
   "cell_type": "markdown",
   "metadata": {},
   "source": [
    "Đôi khi các bài đăng sẽ bị đăng 2 lần, nên ta cần loại bỏ nó bằng cách xét nội dung bài đăng rồi tới tiêu đề"
   ]
  },
  {
   "cell_type": "code",
   "execution_count": 16,
   "metadata": {},
   "outputs": [],
   "source": [
    "cleaned_data = cleaned_data.drop_duplicates(subset=[\"content\", \"title\"], keep='first')"
   ]
  },
  {
   "cell_type": "code",
   "execution_count": 17,
   "metadata": {},
   "outputs": [
    {
     "name": "stdout",
     "output_type": "stream",
     "text": [
      "<class 'pandas.core.frame.DataFrame'>\n",
      "Index: 9422 entries, 0 to 10048\n",
      "Data columns (total 19 columns):\n",
      " #   Column           Non-Null Count  Dtype  \n",
      "---  ------           --------------  -----  \n",
      " 0   post_code        9422 non-null   int64  \n",
      " 1   post_date        9422 non-null   object \n",
      " 2   content          9422 non-null   object \n",
      " 3   title            9422 non-null   object \n",
      " 4   c_rent           9422 non-null   bool   \n",
      " 5   t_rent           9422 non-null   bool   \n",
      " 6   c_hurried        9422 non-null   bool   \n",
      " 7   t_hurried        9422 non-null   bool   \n",
      " 8   district         9422 non-null   object \n",
      " 9   house_type       9422 non-null   object \n",
      " 10  price            9139 non-null   float64\n",
      " 11  square           9073 non-null   float64\n",
      " 12  bedroom          6978 non-null   float64\n",
      " 13  bathroom         6619 non-null   float64\n",
      " 14  house_direction  3007 non-null   object \n",
      " 15  has_balcony      9422 non-null   object \n",
      " 16  has_furniture    9422 non-null   object \n",
      " 17  has_legal_info   9422 non-null   object \n",
      " 18  is_hurried       9422 non-null   bool   \n",
      "dtypes: bool(5), float64(4), int64(1), object(9)\n",
      "memory usage: 1.1+ MB\n"
     ]
    }
   ],
   "source": [
    "cleaned_data.info()"
   ]
  },
  {
   "cell_type": "markdown",
   "metadata": {},
   "source": [
    "<h3><b>2. Thuê nhà"
   ]
  },
  {
   "cell_type": "markdown",
   "metadata": {},
   "source": [
    "Đôi khi có bài đăng nội dung chỉ thuê nhà, nên ta cần loại bỏ nó"
   ]
  },
  {
   "cell_type": "code",
   "execution_count": 18,
   "metadata": {},
   "outputs": [],
   "source": [
    "rent_mask = cleaned_data[(cleaned_data[\"t_rent\"] == True) & (cleaned_data[\"c_rent\"] == True)].index.values\n",
    "cleaned_data.drop(rent_mask, inplace=True)"
   ]
  },
  {
   "cell_type": "markdown",
   "metadata": {},
   "source": [
    "<h3><b>3. Quảng cáo"
   ]
  },
  {
   "cell_type": "markdown",
   "metadata": {},
   "source": [
    "Ngoài ra, cũng có các nội dung là về quảng cáo, tiếp thị mặt hàng khác, những thông tin này cũng sẽ loại bỏ"
   ]
  },
  {
   "cell_type": "markdown",
   "metadata": {},
   "source": []
  },
  {
   "cell_type": "markdown",
   "metadata": {},
   "source": [
    "<h1><b>D. Xuất"
   ]
  },
  {
   "cell_type": "code",
   "execution_count": 19,
   "metadata": {},
   "outputs": [
    {
     "name": "stdout",
     "output_type": "stream",
     "text": [
      "Done!\n"
     ]
    }
   ],
   "source": [
    "cleaned_data.drop(['content', 'title', 'c_rent', 't_rent'], axis=1, inplace=True)\n",
    "\n",
    "cleaned_data.to_csv('./dataset/csv_data/cleaned_data.csv', index=False, encoding=\"utf-8-sig\")\n",
    "print(\"Done!\")"
   ]
  },
  {
   "cell_type": "markdown",
   "metadata": {},
   "source": []
  },
  {
   "cell_type": "markdown",
   "metadata": {},
   "source": []
  }
 ],
 "metadata": {
  "kernelspec": {
   "display_name": "Python 3",
   "language": "python",
   "name": "python3"
  },
  "language_info": {
   "codemirror_mode": {
    "name": "ipython",
    "version": 3
   },
   "file_extension": ".py",
   "mimetype": "text/x-python",
   "name": "python",
   "nbconvert_exporter": "python",
   "pygments_lexer": "ipython3",
   "version": "3.11.6"
  }
 },
 "nbformat": 4,
 "nbformat_minor": 2
}
