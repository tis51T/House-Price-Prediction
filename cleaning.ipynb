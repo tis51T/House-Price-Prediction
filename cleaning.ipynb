{
 "cells": [
  {
   "cell_type": "markdown",
   "metadata": {},
   "source": [
    "<h1><b>A. Nhập</b></h1>\n",
    "\n",
    "<h3><b>1. Tải các thư viên</b></h3>"
   ]
  },
  {
   "cell_type": "code",
   "execution_count": 81,
   "metadata": {},
   "outputs": [],
   "source": [
    "import pandas as pd\n",
    "import numpy as np\n",
    "import re\n",
    "import matplotlib.pyplot as plt "
   ]
  },
  {
   "cell_type": "markdown",
   "metadata": {},
   "source": [
    "<h3><b>2. Tải data"
   ]
  },
  {
   "cell_type": "code",
   "execution_count": 82,
   "metadata": {},
   "outputs": [],
   "source": [
    "post_data = pd.read_csv('./dataset/csv_data/post_data.csv')\n",
    "content_data = pd.read_csv('./dataset/csv_data/content_data.csv')\n",
    "title_data = pd.read_csv('./dataset/csv_data/title_data.csv')\n",
    "\n",
    "cleaned_data = pd.DataFrame() # Lưu kết quả cuối vào đây\n",
    "# cleaned_data[\"url\"] = post_data[\"url\"]\n",
    "\n",
    "cleaned_data['post_code'] = post_data['post_code']\n",
    "cleaned_data['post_date'] = post_data['post_date']\n",
    "\n",
    "cleaned_data[\"content\"] = post_data[\"content\"]\n",
    "cleaned_data[\"title\"] = post_data[\"title\"]\n",
    "\n",
    "cleaned_data[\"c_rent\"] = content_data[\"rent\"]\n",
    "cleaned_data[\"t_rent\"] = title_data[\"rent\"]\n",
    "\n",
    "cleaned_data[\"c_hurried\"] = content_data[\"hurried\"]\n",
    "cleaned_data[\"t_hurried\"] = title_data[\"hurried\"]\n",
    "\n",
    "cleaned_data[\"district\"] = post_data[\"district\"]"
   ]
  },
  {
   "cell_type": "markdown",
   "metadata": {},
   "source": [
    "<h1><b>B. Replacing and Cleaning"
   ]
  },
  {
   "cell_type": "markdown",
   "metadata": {},
   "source": [
    "Ở phần này, ta sẽ thay thế các data bị thiếu ở tập `main_data`, với thứ tự ưu tiên là `c_data` rồi `t_data`, vì các dữ liệu trong content sẽ được ghi chi tiết và đầy đủ hơn so với title.\n",
    "Nếu như cả `c_data` và `t_data` đều trống, ta trả về `None` ở `main_data`"
   ]
  },
  {
   "cell_type": "code",
   "execution_count": 83,
   "metadata": {},
   "outputs": [],
   "source": [
    "def replace_value(post, content, title):\n",
    "    # Tạo màng gạt các giá trị null\n",
    "    temp = content.copy()\n",
    "    content_mask = content[(content.isnull()) | (content == 0)].index.values\n",
    "    \n",
    "    title = title.loc[content_mask]    \n",
    "    title_mask = title[(title.isnull()) | (title == 0)].index.values\n",
    "\n",
    "    title.loc[title_mask] = post.loc[title_mask]\n",
    "    temp.loc[content_mask] = title.loc[content_mask]\n",
    "\n",
    "    return temp"
   ]
  },
  {
   "cell_type": "markdown",
   "metadata": {},
   "source": [
    "<h3><b>1. Price"
   ]
  },
  {
   "cell_type": "markdown",
   "metadata": {},
   "source": [
    "Đối với giá tiền, trường hợp để trống dữ liệu sẽ không xảy ra, thay vào đó là \"Thỏa thuận\". Ngoài ra còn có các trường hợp nhập dư số không như 3899000000 tỷ hoặc 4500000 tỷ nhưng thực tế là 3.889 tỷ hoặc 4.5 tỷ"
   ]
  },
  {
   "cell_type": "markdown",
   "metadata": {},
   "source": [
    "Giá trị của `price` nằm trong khoảng từ `1` đến nhỉnh hơn `1e+12`, trong đó từ giá trị từ `1` đến trước `200` sẽ được coi là chấp nhận được, các khoảng còn lại là bị lỗi nhập liệu. Cách sửa lỗi như sau:\n",
    "- Từ `200` đến trước `1e6`: khoảng này rất đa dạng lỗi, nên sẽ không sửa và trả giá trị `None`\n",
    "- Từ `1e6` đến trước `1e9`: khoảng nãy do người đăng nhập thêm 6 số 0, sửa bằng cách chia cho 1e6\n",
    "- Từ `1e9` đến trước `1e12`: khoảng nãy do người đăng nhập thêm 9 số 0, sửa bằng cách chia cho 1e9\n",
    "- `1e12` trở lên: khoảng nãy do người đăng nhập thêm 12 số 0, sửa bằng cách chia cho 1e12"
   ]
  },
  {
   "cell_type": "code",
   "execution_count": 84,
   "metadata": {},
   "outputs": [],
   "source": [
    "def get_valid_price(price, thres = 350):\n",
    "    if price != None:\n",
    "        is_billions = re.search(r'(tỷ|tỉ)', str(price))        \n",
    "        if not is_billions:\n",
    "            has_number = re.search(r'\\d+', str(price))\n",
    "            if has_number:\n",
    "                number = float(re.search(r'\\d+', str(price)).group())\n",
    "                if number > thres:\n",
    "                    return price\n",
    "                else:\n",
    "                    return None\n",
    "    return price"
   ]
  },
  {
   "cell_type": "code",
   "execution_count": 85,
   "metadata": {},
   "outputs": [],
   "source": [
    "def clean_price(price, x=5):\n",
    "    if type(price) == str:\n",
    "        is_billions = re.search(r'(tỷ|tỉ)', price)\n",
    "        \n",
    "        if is_billions:\n",
    "            normal_format = re.search(r'(\\d+(\\.\\d+)?|\\d+(\\,\\d+)?)', price)\n",
    "            if normal_format:\n",
    "                number = float(normal_format.group().replace(',', '.').replace('x', f'{x}'))\n",
    "                # xử lý các trường hợp nhập dư số không\n",
    "                if number > 1e+12:\n",
    "                    number = number / 1e+12\n",
    "                elif number < 1e+12 and number >= 1e+9:\n",
    "                    number = number / 1e+9\n",
    "                elif number < 1e+9 and number >= 1e+6:\n",
    "                    number = number / 1e+6\n",
    "                elif number >= 200 and number < 1e+6:\n",
    "                    number = None\n",
    "                return number\n",
    "            else:\n",
    "                number = float(price.replace(' ','').replace('tỷ','.').replace('tỉ','.'))\n",
    "                return number\n",
    "\n",
    "        elif not is_billions:\n",
    "            is_millions = re.search(r'triệu', price)\n",
    "            if is_millions:\n",
    "                number = float(price.replace('triệu', '.').replace(' ', ''))\n",
    "                return number / 1e+3\n",
    "\n",
    "    return np.nan"
   ]
  },
  {
   "cell_type": "code",
   "execution_count": 86,
   "metadata": {},
   "outputs": [],
   "source": [
    "post_price = post_data['price'].apply(get_valid_price)\n",
    "content_price = content_data['price'].apply(get_valid_price)\n",
    "title_price = title_data['price'].apply(get_valid_price)\n",
    "\n",
    "cleaned_data[\"price\"] = replace_value(post_price, content_price, title_price)\n",
    "cleaned_data[\"price\"] = cleaned_data[\"price\"].apply(clean_price)"
   ]
  },
  {
   "cell_type": "markdown",
   "metadata": {},
   "source": [
    "<h3><b>2. Square</h3>"
   ]
  },
  {
   "cell_type": "code",
   "execution_count": 87,
   "metadata": {},
   "outputs": [],
   "source": [
    "post_square = post_data['square']\n",
    "content_square = content_data['square']\n",
    "title_square = title_data['square']\n",
    "\n",
    "cleaned_data[\"square\"] = replace_value(post_square, content_square, title_square)"
   ]
  },
  {
   "cell_type": "markdown",
   "metadata": {},
   "source": [
    "<h3><b>3. Bedroom </h3>"
   ]
  },
  {
   "cell_type": "code",
   "execution_count": 88,
   "metadata": {},
   "outputs": [],
   "source": [
    "post_bedroom = post_data['bedroom']\n",
    "content_bedroom = content_data['bedrooms']\n",
    "title_bedroom = title_data['bedrooms']\n",
    "\n",
    "cleaned_data[\"bedroom\"] = replace_value(post_bedroom, content_bedroom, title_bedroom)"
   ]
  },
  {
   "cell_type": "markdown",
   "metadata": {},
   "source": [
    "<h3><b>4. Bathroom</h3>"
   ]
  },
  {
   "cell_type": "code",
   "execution_count": 89,
   "metadata": {},
   "outputs": [],
   "source": [
    "post_bathroom = post_data['bathroom']\n",
    "content_bathroom = content_data['bathrooms']\n",
    "title_bathroom = title_data['bathrooms']\n",
    "\n",
    "cleaned_data[\"bathroom\"] = replace_value(post_bathroom, content_bathroom, title_bathroom)"
   ]
  },
  {
   "cell_type": "markdown",
   "metadata": {},
   "source": [
    "<h3><b>5. House direction</h3>"
   ]
  },
  {
   "cell_type": "code",
   "execution_count": 90,
   "metadata": {},
   "outputs": [],
   "source": [
    "post_house_direction = post_data['house_direction']\n",
    "content_house_direction = content_data['house_direction']\n",
    "title_house_direction = title_data['house_direction']\n",
    "\n",
    "post_house_direction = post_house_direction.apply(lambda x: x.lower() if x is not np.nan else x)\n",
    "cleaned_data[\"house_direction\"] = replace_value(post_house_direction, content_house_direction, title_house_direction)"
   ]
  },
  {
   "cell_type": "markdown",
   "metadata": {},
   "source": [
    "<h3><b>6. Balcony</h3>"
   ]
  },
  {
   "cell_type": "code",
   "execution_count": 91,
   "metadata": {},
   "outputs": [
    {
     "name": "stderr",
     "output_type": "stream",
     "text": [
      "C:\\Users\\dangm\\AppData\\Local\\Temp\\ipykernel_4184\\1185534400.py:9: FutureWarning: Setting an item of incompatible dtype is deprecated and will raise an error in a future version of pandas. Value '[nan nan nan ... nan nan nan]' has dtype incompatible with bool, please explicitly cast to a compatible dtype first.\n",
      "  title.loc[title_mask] = post.loc[title_mask]\n",
      "C:\\Users\\dangm\\AppData\\Local\\Temp\\ipykernel_4184\\1185534400.py:10: FutureWarning: Setting an item of incompatible dtype is deprecated and will raise an error in a future version of pandas. Value '[nan nan nan ... nan nan nan]' has dtype incompatible with bool, please explicitly cast to a compatible dtype first.\n",
      "  temp.loc[content_mask] = title.loc[content_mask]\n",
      "C:\\Users\\dangm\\AppData\\Local\\Temp\\ipykernel_4184\\4155540165.py:6: FutureWarning: A value is trying to be set on a copy of a DataFrame or Series through chained assignment using an inplace method.\n",
      "The behavior will change in pandas 3.0. This inplace method will never work because the intermediate object on which we are setting values always behaves as a copy.\n",
      "\n",
      "For example, when doing 'df[col].method(value, inplace=True)', try using 'df.method({col: value}, inplace=True)' or df[col] = df[col].method(value) instead, to perform the operation inplace on the original object.\n",
      "\n",
      "\n",
      "  cleaned_data[\"has_balcony\"].replace({np.nan: False, \"Yes\": True}, inplace=True )\n",
      "C:\\Users\\dangm\\AppData\\Local\\Temp\\ipykernel_4184\\4155540165.py:6: FutureWarning: Downcasting behavior in `replace` is deprecated and will be removed in a future version. To retain the old behavior, explicitly call `result.infer_objects(copy=False)`. To opt-in to the future behavior, set `pd.set_option('future.no_silent_downcasting', True)`\n",
      "  cleaned_data[\"has_balcony\"].replace({np.nan: False, \"Yes\": True}, inplace=True )\n"
     ]
    }
   ],
   "source": [
    "post_balcony = post_data['balcony']\n",
    "content_balcony = content_data['balcony']\n",
    "title_balcony = title_data['balcony']\n",
    "\n",
    "cleaned_data[\"has_balcony\"] = replace_value(post_balcony, content_balcony, title_balcony)\n",
    "cleaned_data[\"has_balcony\"].replace({np.nan: False, \"Yes\": True}, inplace=True )"
   ]
  },
  {
   "cell_type": "markdown",
   "metadata": {},
   "source": [
    "<h3><b>7. Furniture</h3>"
   ]
  },
  {
   "cell_type": "code",
   "execution_count": 92,
   "metadata": {},
   "outputs": [
    {
     "name": "stderr",
     "output_type": "stream",
     "text": [
      "C:\\Users\\dangm\\AppData\\Local\\Temp\\ipykernel_4184\\1185534400.py:9: FutureWarning: Setting an item of incompatible dtype is deprecated and will raise an error in a future version of pandas. Value '[nan nan nan ... nan nan nan]' has dtype incompatible with bool, please explicitly cast to a compatible dtype first.\n",
      "  title.loc[title_mask] = post.loc[title_mask]\n",
      "C:\\Users\\dangm\\AppData\\Local\\Temp\\ipykernel_4184\\1185534400.py:10: FutureWarning: Setting an item of incompatible dtype is deprecated and will raise an error in a future version of pandas. Value '[nan nan nan ... nan nan nan]' has dtype incompatible with bool, please explicitly cast to a compatible dtype first.\n",
      "  temp.loc[content_mask] = title.loc[content_mask]\n",
      "C:\\Users\\dangm\\AppData\\Local\\Temp\\ipykernel_4184\\3178386669.py:6: FutureWarning: A value is trying to be set on a copy of a DataFrame or Series through chained assignment using an inplace method.\n",
      "The behavior will change in pandas 3.0. This inplace method will never work because the intermediate object on which we are setting values always behaves as a copy.\n",
      "\n",
      "For example, when doing 'df[col].method(value, inplace=True)', try using 'df.method({col: value}, inplace=True)' or df[col] = df[col].method(value) instead, to perform the operation inplace on the original object.\n",
      "\n",
      "\n",
      "  cleaned_data[\"has_furniture\"].replace({np.nan: False}, inplace=True )\n",
      "C:\\Users\\dangm\\AppData\\Local\\Temp\\ipykernel_4184\\3178386669.py:6: FutureWarning: Downcasting behavior in `replace` is deprecated and will be removed in a future version. To retain the old behavior, explicitly call `result.infer_objects(copy=False)`. To opt-in to the future behavior, set `pd.set_option('future.no_silent_downcasting', True)`\n",
      "  cleaned_data[\"has_furniture\"].replace({np.nan: False}, inplace=True )\n"
     ]
    }
   ],
   "source": [
    "post_furniture = post_data['furniture']\n",
    "content_furniture = content_data['furniture']\n",
    "title_furniture = title_data['furniture']\n",
    "\n",
    "cleaned_data[\"has_furniture\"] = replace_value(post_furniture, content_furniture, title_furniture)\n",
    "cleaned_data[\"has_furniture\"].replace({np.nan: False}, inplace=True )"
   ]
  },
  {
   "cell_type": "markdown",
   "metadata": {},
   "source": [
    "<h3><b>8. Legal information</h3>"
   ]
  },
  {
   "cell_type": "code",
   "execution_count": 93,
   "metadata": {},
   "outputs": [
    {
     "name": "stderr",
     "output_type": "stream",
     "text": [
      "C:\\Users\\dangm\\AppData\\Local\\Temp\\ipykernel_4184\\1185534400.py:9: FutureWarning: Setting an item of incompatible dtype is deprecated and will raise an error in a future version of pandas. Value '[nan nan nan ... nan nan nan]' has dtype incompatible with bool, please explicitly cast to a compatible dtype first.\n",
      "  title.loc[title_mask] = post.loc[title_mask]\n",
      "C:\\Users\\dangm\\AppData\\Local\\Temp\\ipykernel_4184\\1185534400.py:10: FutureWarning: Setting an item of incompatible dtype is deprecated and will raise an error in a future version of pandas. Value '[nan nan nan ... nan nan nan]' has dtype incompatible with bool, please explicitly cast to a compatible dtype first.\n",
      "  temp.loc[content_mask] = title.loc[content_mask]\n",
      "C:\\Users\\dangm\\AppData\\Local\\Temp\\ipykernel_4184\\1527371479.py:6: FutureWarning: A value is trying to be set on a copy of a DataFrame or Series through chained assignment using an inplace method.\n",
      "The behavior will change in pandas 3.0. This inplace method will never work because the intermediate object on which we are setting values always behaves as a copy.\n",
      "\n",
      "For example, when doing 'df[col].method(value, inplace=True)', try using 'df.method({col: value}, inplace=True)' or df[col] = df[col].method(value) instead, to perform the operation inplace on the original object.\n",
      "\n",
      "\n",
      "  cleaned_data[\"has_legal_info\"].replace({np.nan: False}, inplace=True )\n",
      "C:\\Users\\dangm\\AppData\\Local\\Temp\\ipykernel_4184\\1527371479.py:6: FutureWarning: Downcasting behavior in `replace` is deprecated and will be removed in a future version. To retain the old behavior, explicitly call `result.infer_objects(copy=False)`. To opt-in to the future behavior, set `pd.set_option('future.no_silent_downcasting', True)`\n",
      "  cleaned_data[\"has_legal_info\"].replace({np.nan: False}, inplace=True )\n"
     ]
    }
   ],
   "source": [
    "post_legal_info = post_data['legal_info']\n",
    "content_legal_info = content_data['legal_info']\n",
    "title_legal_info = title_data['legal_info']\n",
    "\n",
    "cleaned_data[\"has_legal_info\"] = replace_value(post_legal_info, content_legal_info, title_legal_info)\n",
    "cleaned_data[\"has_legal_info\"].replace({np.nan: False}, inplace=True )"
   ]
  },
  {
   "cell_type": "markdown",
   "metadata": {},
   "source": [
    "<h3><b>9. Hurried</h3>"
   ]
  },
  {
   "cell_type": "code",
   "execution_count": 94,
   "metadata": {},
   "outputs": [],
   "source": [
    "is_hurried_mask = cleaned_data[(cleaned_data[\"c_hurried\"] == True) | (cleaned_data[\"t_hurried\"] == True)].index.values\n",
    "cleaned_data[\"is_hurried\"] = False\n",
    "cleaned_data.loc[is_hurried_mask, \"is_hurried\"] = True"
   ]
  },
  {
   "cell_type": "markdown",
   "metadata": {},
   "source": [
    "<h3><b>10. Floors</h3>"
   ]
  },
  {
   "cell_type": "code",
   "execution_count": 95,
   "metadata": {},
   "outputs": [],
   "source": [
    "post_floor = title_data['floors'].copy()\n",
    "content_floor = content_data['floors'].copy()\n",
    "title_floor = title_data['floors'].copy()\n",
    "\n",
    "cleaned_data[\"floor\"] = replace_value(post_floor, content_floor, title_floor)"
   ]
  },
  {
   "cell_type": "markdown",
   "metadata": {},
   "source": [
    "<h3><b>11. Basements</h3>"
   ]
  },
  {
   "cell_type": "code",
   "execution_count": 96,
   "metadata": {},
   "outputs": [],
   "source": [
    "post_basement = title_data['basement'].copy()\n",
    "content_basement = content_data['basement'].copy()\n",
    "title_basement = title_data['basement'].copy()\n",
    "\n",
    "cleaned_data[\"has_basement\"] = replace_value(post_basement, content_basement, title_basement)"
   ]
  },
  {
   "cell_type": "markdown",
   "metadata": {},
   "source": [
    "<h3><b>12. House type</h3>"
   ]
  },
  {
   "cell_type": "code",
   "execution_count": 97,
   "metadata": {},
   "outputs": [],
   "source": [
    "cleaned_data[\"house_type\"] = post_data[\"type\"].apply(lambda x: x.lower() if x is not np.nan else x)\n",
    "cleaned_data[\"house_type\"] = cleaned_data[\"house_type\"].apply(lambda x: \"nhà riêng\" if x == \"nhà\" else x)"
   ]
  },
  {
   "cell_type": "code",
   "execution_count": 98,
   "metadata": {},
   "outputs": [
    {
     "data": {
      "text/html": [
       "<div>\n",
       "<style scoped>\n",
       "    .dataframe tbody tr th:only-of-type {\n",
       "        vertical-align: middle;\n",
       "    }\n",
       "\n",
       "    .dataframe tbody tr th {\n",
       "        vertical-align: top;\n",
       "    }\n",
       "\n",
       "    .dataframe thead th {\n",
       "        text-align: right;\n",
       "    }\n",
       "</style>\n",
       "<table border=\"1\" class=\"dataframe\">\n",
       "  <thead>\n",
       "    <tr style=\"text-align: right;\">\n",
       "      <th></th>\n",
       "      <th>post_code</th>\n",
       "      <th>post_date</th>\n",
       "      <th>content</th>\n",
       "      <th>title</th>\n",
       "      <th>c_rent</th>\n",
       "      <th>t_rent</th>\n",
       "      <th>c_hurried</th>\n",
       "      <th>t_hurried</th>\n",
       "      <th>district</th>\n",
       "      <th>price</th>\n",
       "      <th>...</th>\n",
       "      <th>bedroom</th>\n",
       "      <th>bathroom</th>\n",
       "      <th>house_direction</th>\n",
       "      <th>has_balcony</th>\n",
       "      <th>has_furniture</th>\n",
       "      <th>has_legal_info</th>\n",
       "      <th>is_hurried</th>\n",
       "      <th>floor</th>\n",
       "      <th>has_basement</th>\n",
       "      <th>house_type</th>\n",
       "    </tr>\n",
       "  </thead>\n",
       "  <tbody>\n",
       "    <tr>\n",
       "      <th>count</th>\n",
       "      <td>10050.000000</td>\n",
       "      <td>10050</td>\n",
       "      <td>10050</td>\n",
       "      <td>10050</td>\n",
       "      <td>10050</td>\n",
       "      <td>10050</td>\n",
       "      <td>10050</td>\n",
       "      <td>10050</td>\n",
       "      <td>10050</td>\n",
       "      <td>9751.000000</td>\n",
       "      <td>...</td>\n",
       "      <td>7374.000000</td>\n",
       "      <td>7008.000000</td>\n",
       "      <td>3171</td>\n",
       "      <td>10050</td>\n",
       "      <td>10050</td>\n",
       "      <td>10050</td>\n",
       "      <td>10050</td>\n",
       "      <td>10050.000000</td>\n",
       "      <td>10050</td>\n",
       "      <td>10050</td>\n",
       "    </tr>\n",
       "    <tr>\n",
       "      <th>unique</th>\n",
       "      <td>NaN</td>\n",
       "      <td>9443</td>\n",
       "      <td>9308</td>\n",
       "      <td>9221</td>\n",
       "      <td>2</td>\n",
       "      <td>2</td>\n",
       "      <td>2</td>\n",
       "      <td>2</td>\n",
       "      <td>24</td>\n",
       "      <td>NaN</td>\n",
       "      <td>...</td>\n",
       "      <td>NaN</td>\n",
       "      <td>NaN</td>\n",
       "      <td>8</td>\n",
       "      <td>2</td>\n",
       "      <td>2</td>\n",
       "      <td>2</td>\n",
       "      <td>2</td>\n",
       "      <td>NaN</td>\n",
       "      <td>2</td>\n",
       "      <td>4</td>\n",
       "    </tr>\n",
       "    <tr>\n",
       "      <th>top</th>\n",
       "      <td>NaN</td>\n",
       "      <td>[datetime.datetime(2023, 8, 15, 18, 20)]</td>\n",
       "      <td>Chủ định cư nơi khác, cần bán biệt thự đường T...</td>\n",
       "      <td>Lê Vinh</td>\n",
       "      <td>False</td>\n",
       "      <td>False</td>\n",
       "      <td>False</td>\n",
       "      <td>False</td>\n",
       "      <td>Gò Vấp</td>\n",
       "      <td>NaN</td>\n",
       "      <td>...</td>\n",
       "      <td>NaN</td>\n",
       "      <td>NaN</td>\n",
       "      <td>đông</td>\n",
       "      <td>False</td>\n",
       "      <td>False</td>\n",
       "      <td>True</td>\n",
       "      <td>False</td>\n",
       "      <td>NaN</td>\n",
       "      <td>False</td>\n",
       "      <td>nhà riêng</td>\n",
       "    </tr>\n",
       "    <tr>\n",
       "      <th>freq</th>\n",
       "      <td>NaN</td>\n",
       "      <td>4</td>\n",
       "      <td>10</td>\n",
       "      <td>14</td>\n",
       "      <td>9232</td>\n",
       "      <td>9949</td>\n",
       "      <td>8395</td>\n",
       "      <td>8783</td>\n",
       "      <td>1344</td>\n",
       "      <td>NaN</td>\n",
       "      <td>...</td>\n",
       "      <td>NaN</td>\n",
       "      <td>NaN</td>\n",
       "      <td>1627</td>\n",
       "      <td>8406</td>\n",
       "      <td>8459</td>\n",
       "      <td>6980</td>\n",
       "      <td>7815</td>\n",
       "      <td>NaN</td>\n",
       "      <td>9821</td>\n",
       "      <td>7997</td>\n",
       "    </tr>\n",
       "    <tr>\n",
       "      <th>mean</th>\n",
       "      <td>267690.862488</td>\n",
       "      <td>NaN</td>\n",
       "      <td>NaN</td>\n",
       "      <td>NaN</td>\n",
       "      <td>NaN</td>\n",
       "      <td>NaN</td>\n",
       "      <td>NaN</td>\n",
       "      <td>NaN</td>\n",
       "      <td>NaN</td>\n",
       "      <td>8.068342</td>\n",
       "      <td>...</td>\n",
       "      <td>3.640087</td>\n",
       "      <td>3.443779</td>\n",
       "      <td>NaN</td>\n",
       "      <td>NaN</td>\n",
       "      <td>NaN</td>\n",
       "      <td>NaN</td>\n",
       "      <td>NaN</td>\n",
       "      <td>3.027264</td>\n",
       "      <td>NaN</td>\n",
       "      <td>NaN</td>\n",
       "    </tr>\n",
       "    <tr>\n",
       "      <th>std</th>\n",
       "      <td>10170.415868</td>\n",
       "      <td>NaN</td>\n",
       "      <td>NaN</td>\n",
       "      <td>NaN</td>\n",
       "      <td>NaN</td>\n",
       "      <td>NaN</td>\n",
       "      <td>NaN</td>\n",
       "      <td>NaN</td>\n",
       "      <td>NaN</td>\n",
       "      <td>13.093599</td>\n",
       "      <td>...</td>\n",
       "      <td>3.770343</td>\n",
       "      <td>3.773709</td>\n",
       "      <td>NaN</td>\n",
       "      <td>NaN</td>\n",
       "      <td>NaN</td>\n",
       "      <td>NaN</td>\n",
       "      <td>NaN</td>\n",
       "      <td>2.059096</td>\n",
       "      <td>NaN</td>\n",
       "      <td>NaN</td>\n",
       "    </tr>\n",
       "    <tr>\n",
       "      <th>min</th>\n",
       "      <td>247475.000000</td>\n",
       "      <td>NaN</td>\n",
       "      <td>NaN</td>\n",
       "      <td>NaN</td>\n",
       "      <td>NaN</td>\n",
       "      <td>NaN</td>\n",
       "      <td>NaN</td>\n",
       "      <td>NaN</td>\n",
       "      <td>NaN</td>\n",
       "      <td>0.355000</td>\n",
       "      <td>...</td>\n",
       "      <td>1.000000</td>\n",
       "      <td>1.000000</td>\n",
       "      <td>NaN</td>\n",
       "      <td>NaN</td>\n",
       "      <td>NaN</td>\n",
       "      <td>NaN</td>\n",
       "      <td>NaN</td>\n",
       "      <td>0.000000</td>\n",
       "      <td>NaN</td>\n",
       "      <td>NaN</td>\n",
       "    </tr>\n",
       "    <tr>\n",
       "      <th>25%</th>\n",
       "      <td>258774.500000</td>\n",
       "      <td>NaN</td>\n",
       "      <td>NaN</td>\n",
       "      <td>NaN</td>\n",
       "      <td>NaN</td>\n",
       "      <td>NaN</td>\n",
       "      <td>NaN</td>\n",
       "      <td>NaN</td>\n",
       "      <td>NaN</td>\n",
       "      <td>3.800000</td>\n",
       "      <td>...</td>\n",
       "      <td>2.000000</td>\n",
       "      <td>2.000000</td>\n",
       "      <td>NaN</td>\n",
       "      <td>NaN</td>\n",
       "      <td>NaN</td>\n",
       "      <td>NaN</td>\n",
       "      <td>NaN</td>\n",
       "      <td>2.000000</td>\n",
       "      <td>NaN</td>\n",
       "      <td>NaN</td>\n",
       "    </tr>\n",
       "    <tr>\n",
       "      <th>50%</th>\n",
       "      <td>267341.000000</td>\n",
       "      <td>NaN</td>\n",
       "      <td>NaN</td>\n",
       "      <td>NaN</td>\n",
       "      <td>NaN</td>\n",
       "      <td>NaN</td>\n",
       "      <td>NaN</td>\n",
       "      <td>NaN</td>\n",
       "      <td>NaN</td>\n",
       "      <td>5.100000</td>\n",
       "      <td>...</td>\n",
       "      <td>3.000000</td>\n",
       "      <td>3.000000</td>\n",
       "      <td>NaN</td>\n",
       "      <td>NaN</td>\n",
       "      <td>NaN</td>\n",
       "      <td>NaN</td>\n",
       "      <td>NaN</td>\n",
       "      <td>3.000000</td>\n",
       "      <td>NaN</td>\n",
       "      <td>NaN</td>\n",
       "    </tr>\n",
       "    <tr>\n",
       "      <th>75%</th>\n",
       "      <td>276962.750000</td>\n",
       "      <td>NaN</td>\n",
       "      <td>NaN</td>\n",
       "      <td>NaN</td>\n",
       "      <td>NaN</td>\n",
       "      <td>NaN</td>\n",
       "      <td>NaN</td>\n",
       "      <td>NaN</td>\n",
       "      <td>NaN</td>\n",
       "      <td>8.000000</td>\n",
       "      <td>...</td>\n",
       "      <td>4.000000</td>\n",
       "      <td>4.000000</td>\n",
       "      <td>NaN</td>\n",
       "      <td>NaN</td>\n",
       "      <td>NaN</td>\n",
       "      <td>NaN</td>\n",
       "      <td>NaN</td>\n",
       "      <td>4.000000</td>\n",
       "      <td>NaN</td>\n",
       "      <td>NaN</td>\n",
       "    </tr>\n",
       "    <tr>\n",
       "      <th>max</th>\n",
       "      <td>285164.000000</td>\n",
       "      <td>NaN</td>\n",
       "      <td>NaN</td>\n",
       "      <td>NaN</td>\n",
       "      <td>NaN</td>\n",
       "      <td>NaN</td>\n",
       "      <td>NaN</td>\n",
       "      <td>NaN</td>\n",
       "      <td>NaN</td>\n",
       "      <td>680.000000</td>\n",
       "      <td>...</td>\n",
       "      <td>127.000000</td>\n",
       "      <td>127.000000</td>\n",
       "      <td>NaN</td>\n",
       "      <td>NaN</td>\n",
       "      <td>NaN</td>\n",
       "      <td>NaN</td>\n",
       "      <td>NaN</td>\n",
       "      <td>81.000000</td>\n",
       "      <td>NaN</td>\n",
       "      <td>NaN</td>\n",
       "    </tr>\n",
       "  </tbody>\n",
       "</table>\n",
       "<p>11 rows × 21 columns</p>\n",
       "</div>"
      ],
      "text/plain": [
       "            post_code                                 post_date  \\\n",
       "count    10050.000000                                     10050   \n",
       "unique            NaN                                      9443   \n",
       "top               NaN  [datetime.datetime(2023, 8, 15, 18, 20)]   \n",
       "freq              NaN                                         4   \n",
       "mean    267690.862488                                       NaN   \n",
       "std      10170.415868                                       NaN   \n",
       "min     247475.000000                                       NaN   \n",
       "25%     258774.500000                                       NaN   \n",
       "50%     267341.000000                                       NaN   \n",
       "75%     276962.750000                                       NaN   \n",
       "max     285164.000000                                       NaN   \n",
       "\n",
       "                                                  content    title c_rent  \\\n",
       "count                                               10050    10050  10050   \n",
       "unique                                               9308     9221      2   \n",
       "top     Chủ định cư nơi khác, cần bán biệt thự đường T...  Lê Vinh  False   \n",
       "freq                                                   10       14   9232   \n",
       "mean                                                  NaN      NaN    NaN   \n",
       "std                                                   NaN      NaN    NaN   \n",
       "min                                                   NaN      NaN    NaN   \n",
       "25%                                                   NaN      NaN    NaN   \n",
       "50%                                                   NaN      NaN    NaN   \n",
       "75%                                                   NaN      NaN    NaN   \n",
       "max                                                   NaN      NaN    NaN   \n",
       "\n",
       "       t_rent c_hurried t_hurried district        price  ...      bedroom  \\\n",
       "count   10050     10050     10050    10050  9751.000000  ...  7374.000000   \n",
       "unique      2         2         2       24          NaN  ...          NaN   \n",
       "top     False     False     False   Gò Vấp          NaN  ...          NaN   \n",
       "freq     9949      8395      8783     1344          NaN  ...          NaN   \n",
       "mean      NaN       NaN       NaN      NaN     8.068342  ...     3.640087   \n",
       "std       NaN       NaN       NaN      NaN    13.093599  ...     3.770343   \n",
       "min       NaN       NaN       NaN      NaN     0.355000  ...     1.000000   \n",
       "25%       NaN       NaN       NaN      NaN     3.800000  ...     2.000000   \n",
       "50%       NaN       NaN       NaN      NaN     5.100000  ...     3.000000   \n",
       "75%       NaN       NaN       NaN      NaN     8.000000  ...     4.000000   \n",
       "max       NaN       NaN       NaN      NaN   680.000000  ...   127.000000   \n",
       "\n",
       "           bathroom  house_direction has_balcony has_furniture has_legal_info  \\\n",
       "count   7008.000000             3171       10050         10050          10050   \n",
       "unique          NaN                8           2             2              2   \n",
       "top             NaN             đông       False         False           True   \n",
       "freq            NaN             1627        8406          8459           6980   \n",
       "mean       3.443779              NaN         NaN           NaN            NaN   \n",
       "std        3.773709              NaN         NaN           NaN            NaN   \n",
       "min        1.000000              NaN         NaN           NaN            NaN   \n",
       "25%        2.000000              NaN         NaN           NaN            NaN   \n",
       "50%        3.000000              NaN         NaN           NaN            NaN   \n",
       "75%        4.000000              NaN         NaN           NaN            NaN   \n",
       "max      127.000000              NaN         NaN           NaN            NaN   \n",
       "\n",
       "       is_hurried         floor  has_basement house_type  \n",
       "count       10050  10050.000000         10050      10050  \n",
       "unique          2           NaN             2          4  \n",
       "top         False           NaN         False  nhà riêng  \n",
       "freq         7815           NaN          9821       7997  \n",
       "mean          NaN      3.027264           NaN        NaN  \n",
       "std           NaN      2.059096           NaN        NaN  \n",
       "min           NaN      0.000000           NaN        NaN  \n",
       "25%           NaN      2.000000           NaN        NaN  \n",
       "50%           NaN      3.000000           NaN        NaN  \n",
       "75%           NaN      4.000000           NaN        NaN  \n",
       "max           NaN     81.000000           NaN        NaN  \n",
       "\n",
       "[11 rows x 21 columns]"
      ]
     },
     "execution_count": 98,
     "metadata": {},
     "output_type": "execute_result"
    }
   ],
   "source": [
    "cleaned_data.describe(include=\"all\")"
   ]
  },
  {
   "cell_type": "code",
   "execution_count": 99,
   "metadata": {},
   "outputs": [
    {
     "data": {
      "text/plain": [
       "has_furniture\n",
       "False    8459\n",
       "True     1591\n",
       "Name: count, dtype: int64"
      ]
     },
     "execution_count": 99,
     "metadata": {},
     "output_type": "execute_result"
    }
   ],
   "source": [
    "cleaned_data[\"has_furniture\"].value_counts()"
   ]
  },
  {
   "cell_type": "markdown",
   "metadata": {},
   "source": [
    "<h1><b>C. Loại bỏ giá trị nhiễu</h1>"
   ]
  },
  {
   "cell_type": "markdown",
   "metadata": {},
   "source": [
    "<h3><b>1. Data lặp</h3>"
   ]
  },
  {
   "cell_type": "markdown",
   "metadata": {},
   "source": [
    "Đôi khi các bài đăng sẽ bị đăng 2 lần, nên ta cần loại bỏ nó bằng cách xét nội dung bài đăng rồi tới tiêu đề"
   ]
  },
  {
   "cell_type": "code",
   "execution_count": 100,
   "metadata": {},
   "outputs": [],
   "source": [
    "cleaned_data = cleaned_data.drop_duplicates(subset=[\"content\", \"title\"], keep='first')"
   ]
  },
  {
   "cell_type": "code",
   "execution_count": 101,
   "metadata": {},
   "outputs": [
    {
     "name": "stdout",
     "output_type": "stream",
     "text": [
      "<class 'pandas.core.frame.DataFrame'>\n",
      "Index: 9422 entries, 0 to 10048\n",
      "Data columns (total 21 columns):\n",
      " #   Column           Non-Null Count  Dtype  \n",
      "---  ------           --------------  -----  \n",
      " 0   post_code        9422 non-null   int64  \n",
      " 1   post_date        9422 non-null   object \n",
      " 2   content          9422 non-null   object \n",
      " 3   title            9422 non-null   object \n",
      " 4   c_rent           9422 non-null   bool   \n",
      " 5   t_rent           9422 non-null   bool   \n",
      " 6   c_hurried        9422 non-null   bool   \n",
      " 7   t_hurried        9422 non-null   bool   \n",
      " 8   district         9422 non-null   object \n",
      " 9   price            9139 non-null   float64\n",
      " 10  square           9078 non-null   float64\n",
      " 11  bedroom          6978 non-null   float64\n",
      " 12  bathroom         6619 non-null   float64\n",
      " 13  house_direction  3007 non-null   object \n",
      " 14  has_balcony      9422 non-null   bool   \n",
      " 15  has_furniture    9422 non-null   bool   \n",
      " 16  has_legal_info   9422 non-null   bool   \n",
      " 17  is_hurried       9422 non-null   bool   \n",
      " 18  floor            9422 non-null   int64  \n",
      " 19  has_basement     9422 non-null   bool   \n",
      " 20  house_type       9422 non-null   object \n",
      "dtypes: bool(9), float64(4), int64(2), object(6)\n",
      "memory usage: 1.0+ MB\n"
     ]
    }
   ],
   "source": [
    "cleaned_data.info()"
   ]
  },
  {
   "cell_type": "markdown",
   "metadata": {},
   "source": [
    "<h3><b>2. Thuê nhà"
   ]
  },
  {
   "cell_type": "markdown",
   "metadata": {},
   "source": [
    "Đôi khi có bài đăng nội dung chỉ thuê nhà, nên ta cần loại bỏ nó"
   ]
  },
  {
   "cell_type": "code",
   "execution_count": 102,
   "metadata": {},
   "outputs": [],
   "source": [
    "rent_mask = cleaned_data[(cleaned_data[\"t_rent\"] == True) & (cleaned_data[\"c_rent\"] == True)].index.values\n",
    "cleaned_data.drop(rent_mask, inplace=True)"
   ]
  },
  {
   "cell_type": "markdown",
   "metadata": {},
   "source": [
    "<h3><b>3. Quảng cáo"
   ]
  },
  {
   "cell_type": "markdown",
   "metadata": {},
   "source": [
    "Ngoài ra, cũng có các nội dung là về quảng cáo, tiếp thị mặt hàng khác, những thông tin này cũng sẽ loại bỏ. Loại bỏ bằng cách kiểm tra số ký tự nội dung bài đăng và diện tích đề cập, nếu số ký tự > `1000` và diện tích là `None` thì loại."
   ]
  },
  {
   "cell_type": "code",
   "execution_count": 103,
   "metadata": {},
   "outputs": [
    {
     "data": {
      "text/plain": [
       "<Axes: xlabel='content_length', ylabel='Count'>"
      ]
     },
     "execution_count": 103,
     "metadata": {},
     "output_type": "execute_result"
    },
    {
     "data": {
      "image/png": "[encoded data removed]",
      "text/plain": [
       "<Figure size 640x480 with 1 Axes>"
      ]
     },
     "metadata": {},
     "output_type": "display_data"
    }
   ],
   "source": [
    "import seaborn as sns\n",
    "cleaned_data[\"content_length\"] = cleaned_data[\"content\"].apply(lambda x: len(x))\n",
    "sns.histplot(data=cleaned_data, x=\"content_length\")"
   ]
  },
  {
   "cell_type": "code",
   "execution_count": 104,
   "metadata": {},
   "outputs": [],
   "source": [
    "trash_mask = cleaned_data[(cleaned_data[\"content_length\"] > 1000) & (cleaned_data[\"square\"].isna())].index.values\n",
    "cleaned_data.drop(trash_mask, inplace=True)"
   ]
  },
  {
   "cell_type": "code",
   "execution_count": 105,
   "metadata": {},
   "outputs": [
    {
     "data": {
      "text/plain": [
       "Index(['post_code', 'post_date', 'content', 'title', 'c_rent', 't_rent',\n",
       "       'c_hurried', 't_hurried', 'district', 'price', 'square', 'bedroom',\n",
       "       'bathroom', 'house_direction', 'has_balcony', 'has_furniture',\n",
       "       'has_legal_info', 'is_hurried', 'floor', 'has_basement', 'house_type',\n",
       "       'content_length'],\n",
       "      dtype='object')"
      ]
     },
     "execution_count": 105,
     "metadata": {},
     "output_type": "execute_result"
    }
   ],
   "source": [
    "cleaned_data.columns"
   ]
  },
  {
   "cell_type": "markdown",
   "metadata": {},
   "source": [
    "<h1><b>D. Xuất"
   ]
  },
  {
   "cell_type": "code",
   "execution_count": 106,
   "metadata": {},
   "outputs": [
    {
     "name": "stdout",
     "output_type": "stream",
     "text": [
      "Done!\n"
     ]
    }
   ],
   "source": [
    "cleaned_data.drop(['content', 'title', 'c_rent', 't_rent', 'c_hurried', 't_hurried', 'content_length'], axis=1, inplace=True)\n",
    "price = cleaned_data['price']\n",
    "cleaned_data.drop('price', axis=1, inplace=True)\n",
    "cleaned_data['price'] = price\n",
    "\n",
    "cleaned_data.to_csv('./dataset/csv_data/cleaned_data.csv', index=False, encoding=\"utf-8-sig\")\n",
    "print(\"Done!\")"
   ]
  },
  {
   "cell_type": "markdown",
   "metadata": {},
   "source": []
  },
  {
   "cell_type": "markdown",
   "metadata": {},
   "source": []
  }
 ],
 "metadata": {
  "kernelspec": {
   "display_name": "Python 3",
   "language": "python",
   "name": "python3"
  },
  "language_info": {
   "codemirror_mode": {
    "name": "ipython",
    "version": 3
   },
   "file_extension": ".py",
   "mimetype": "text/x-python",
   "name": "python",
   "nbconvert_exporter": "python",
   "pygments_lexer": "ipython3",
   "version": "3.11.6"
  }
 },
 "nbformat": 4,
 "nbformat_minor": 2
}
