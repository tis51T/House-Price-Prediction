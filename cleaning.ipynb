{
 "cells": [
  {
   "cell_type": "markdown",
   "metadata": {},
   "source": [
    "<h1><b>A. Nhập</b></h1>\n",
    "\n",
    "<h3><b>1. Tải các thư viên</b></h3>"
   ]
  },
  {
   "cell_type": "code",
   "execution_count": 483,
   "metadata": {},
   "outputs": [],
   "source": [
    "import pandas as pd\n",
    "import numpy as np\n",
    "import re\n",
    "import matplotlib.pyplot as plt "
   ]
  },
  {
   "cell_type": "markdown",
   "metadata": {},
   "source": [
    "<h3><b>2. Tải data"
   ]
  },
  {
   "cell_type": "code",
   "execution_count": 484,
   "metadata": {},
   "outputs": [],
   "source": [
    "post_data = pd.read_csv('./dataset/csv_data/post_data.csv')\n",
    "content_data = pd.read_csv('./dataset/csv_data/content_data.csv')\n",
    "title_data = pd.read_csv('./dataset/csv_data/title_data.csv')\n",
    "\n",
    "cleaned_data = pd.DataFrame() # Lưu kết quả cuối vào đây\n",
    "# cleaned_data[\"url\"] = post_data[\"url\"]\n",
    "\n",
    "cleaned_data['post_code'] = post_data['post_code']\n",
    "cleaned_data['post_date'] = post_data['post_date']\n",
    "\n",
    "cleaned_data[\"content\"] = post_data[\"content\"]\n",
    "cleaned_data[\"title\"] = post_data[\"title\"]\n",
    "\n",
    "cleaned_data[\"c_rent\"] = content_data[\"rent\"]\n",
    "cleaned_data[\"t_rent\"] = title_data[\"rent\"]\n",
    "\n",
    "cleaned_data[\"c_hurried\"] = content_data[\"hurried\"]\n",
    "cleaned_data[\"t_hurried\"] = title_data[\"hurried\"]\n",
    "\n",
    "cleaned_data[\"district\"] = post_data[\"district\"]"
   ]
  },
  {
   "cell_type": "markdown",
   "metadata": {},
   "source": [
    "<h1><b>B. Replacing and Cleaning"
   ]
  },
  {
   "cell_type": "markdown",
   "metadata": {},
   "source": [
    "Ở phần này, ta sẽ thay thế các data bị thiếu ở tập `main_data`, với thứ tự ưu tiên là `c_data` rồi `t_data`, vì các dữ liệu trong content sẽ được ghi chi tiết và đầy đủ hơn so với title.\n",
    "Nếu như cả `c_data` và `t_data` đều trống, ta trả về `None` ở `main_data`"
   ]
  },
  {
   "cell_type": "code",
   "execution_count": 485,
   "metadata": {},
   "outputs": [],
   "source": [
    "def replace_value(post, content, title):\n",
    "    # Tạo màng gạt các giá trị null\n",
    "    temp = content.copy()\n",
    "    content_mask = content[(content.isnull()) | (content == 0)].index.values\n",
    "    \n",
    "    title = title.loc[content_mask]    \n",
    "    title_mask = title[(title.isnull()) | (title == 0)].index.values\n",
    "\n",
    "    title.loc[title_mask] = post.loc[title_mask]\n",
    "    temp.loc[content_mask] = title.loc[content_mask]\n",
    "\n",
    "    return temp"
   ]
  },
  {
   "cell_type": "markdown",
   "metadata": {},
   "source": [
    "<h3><b>1. Price"
   ]
  },
  {
   "cell_type": "markdown",
   "metadata": {},
   "source": [
    "Đối với giá tiền, trường hợp để trống dữ liệu sẽ không xảy ra, thay vào đó là \"Thỏa thuận\". Ngoài ra còn có các trường hợp nhập dư số không như 3899000000 tỷ hoặc 4500000 tỷ nhưng thực tế là 3.889 tỷ hoặc 4.5 tỷ"
   ]
  },
  {
   "cell_type": "markdown",
   "metadata": {},
   "source": [
    "Giá trị của `price` nằm trong khoảng từ `1` đến nhỉnh hơn `1e+12`, trong đó từ giá trị từ `1` đến trước `200` sẽ được coi là chấp nhận được, các khoảng còn lại là bị lỗi nhập liệu. Cách sửa lỗi như sau:\n",
    "- Từ `200` đến trước `1e6`: khoảng này rất đa dạng lỗi, nên sẽ không sửa và trả giá trị `None`\n",
    "- Từ `1e6` đến trước `1e9`: khoảng nãy do người đăng nhập thêm 6 số 0, sửa bằng cách chia cho 1e6\n",
    "- Từ `1e9` đến trước `1e12`: khoảng nãy do người đăng nhập thêm 9 số 0, sửa bằng cách chia cho 1e9\n",
    "- `1e12` trở lên: khoảng nãy do người đăng nhập thêm 12 số 0, sửa bằng cách chia cho 1e12"
   ]
  },
  {
   "cell_type": "code",
   "execution_count": 486,
   "metadata": {},
   "outputs": [],
   "source": [
    "def get_valid_price(price, thres = 350):\n",
    "    if price != None:\n",
    "        is_billions = re.search(r'(tỷ|tỉ)', str(price))        \n",
    "        if not is_billions:\n",
    "            has_number = re.search(r'\\d+', str(price))\n",
    "            if has_number:\n",
    "                number = float(re.search(r'\\d+', str(price)).group())\n",
    "                if number > thres:\n",
    "                    return price\n",
    "                else:\n",
    "                    return None\n",
    "    return price"
   ]
  },
  {
   "cell_type": "code",
   "execution_count": 487,
   "metadata": {},
   "outputs": [],
   "source": [
    "def clean_price(price, x=5):\n",
    "    if type(price) == str:\n",
    "        price = price.replace('giá','').replace('bán','').replace(':','')\n",
    "        is_billions = re.search(r'(tỷ|tỉ)', price)\n",
    "        \n",
    "        if is_billions:\n",
    "            normal_format = re.search(r'(\\d+(\\.\\d+)?|\\d+(\\,\\d+)?)', price)\n",
    "            if normal_format:\n",
    "                number = float(normal_format.group().replace(',', '.').replace('x', f'{x}'))\n",
    "                # xử lý các trường hợp nhập dư số không\n",
    "                if number > 1e+12:\n",
    "                    number = number / 1e+12\n",
    "                elif number < 1e+12 and number >= 1e+9:\n",
    "                    number = number / 1e+9\n",
    "                elif number < 1e+9 and number >= 1e+6:\n",
    "                    number = number / 1e+6\n",
    "                # elif number >= 200 and number < 1e+6:\n",
    "                #     number = None\n",
    "                return number\n",
    "            else:\n",
    "                number = float(price.replace(' ','').replace('tỷ','.').replace('tỉ','.'))\n",
    "                return number\n",
    "\n",
    "        elif not is_billions:\n",
    "            is_millions = re.search(r'triệu', price)\n",
    "            if is_millions:\n",
    "                number = float(price.replace('triệu', '.').replace(' ', ''))\n",
    "                return number / 1e+3\n",
    "\n",
    "    return np.nan"
   ]
  },
  {
   "cell_type": "code",
   "execution_count": 488,
   "metadata": {},
   "outputs": [],
   "source": [
    "post_price = post_data['price'].apply(get_valid_price)\n",
    "content_price = content_data['price'].apply(get_valid_price)\n",
    "title_price = title_data['price'].apply(get_valid_price)\n",
    "\n",
    "cleaned_data[\"price\"] = replace_value(post_price, content_price, title_price)\n",
    "# cleaned_data[\"price\"] = cleaned_data[\"price\"].apply(clean_price)"
   ]
  },
  {
   "cell_type": "code",
   "execution_count": 489,
   "metadata": {},
   "outputs": [
    {
     "name": "stderr",
     "output_type": "stream",
     "text": [
      "C:\\Users\\dangm\\AppData\\Local\\Temp\\ipykernel_3024\\1806904721.py:15: FutureWarning: ChainedAssignmentError: behaviour will change in pandas 3.0!\n",
      "You are setting values through chained assignment. Currently this works in certain cases, but when using Copy-on-Write (which will become the default behaviour in pandas 3.0) this will never work to update the original DataFrame or Series, because the intermediate object on which we are setting values will behave as a copy.\n",
      "A typical example is when you are setting values in a column of a DataFrame, like:\n",
      "\n",
      "df[\"col\"][row_indexer] = value\n",
      "\n",
      "Use `df.loc[row_indexer, \"col\"] = values` instead, to perform the assignment in a single step and ensure this keeps updating the original `df`.\n",
      "\n",
      "See the caveats in the documentation: https://pandas.pydata.org/pandas-docs/stable/user_guide/indexing.html#returning-a-view-versus-a-copy\n",
      "\n",
      "  cleaned_data[\"price\"].loc[index] = true_price.loc[index]\n",
      "C:\\Users\\dangm\\AppData\\Local\\Temp\\ipykernel_3024\\1806904721.py:15: SettingWithCopyWarning: \n",
      "A value is trying to be set on a copy of a slice from a DataFrame\n",
      "\n",
      "See the caveats in the documentation: https://pandas.pydata.org/pandas-docs/stable/user_guide/indexing.html#returning-a-view-versus-a-copy\n",
      "  cleaned_data[\"price\"].loc[index] = true_price.loc[index]\n"
     ]
    }
   ],
   "source": [
    "price_1 = replace_value(post_price, content_price, title_price).apply(clean_price)\n",
    "price_2 = replace_value(title_price, content_price, post_price).apply(clean_price)\n",
    "\n",
    "index = []\n",
    "true_price = []\n",
    "for i in range(len(price_1)):\n",
    "    if price_1[i] != price_2[i] and not np.isnan(price_1[i]) and not np.isnan(price_2[i]):\n",
    "        if price_2[i] > 40:\n",
    "            true_price.append(price_1[i])\n",
    "        else:\n",
    "            true_price.append(price_2[i])\n",
    "        index.append(i)\n",
    "\n",
    "true_price = pd.Series(true_price, index=index)\n",
    "cleaned_data[\"price\"].loc[index] = true_price.loc[index]\n",
    "# cleaned_data[\"price\"] = cleaned_data[\"price\"].apply(clean_price)"
   ]
  },
  {
   "cell_type": "markdown",
   "metadata": {},
   "source": [
    "<h3><b>2. Square</h3>"
   ]
  },
  {
   "cell_type": "code",
   "execution_count": 490,
   "metadata": {},
   "outputs": [],
   "source": [
    "post_square = post_data['square']\n",
    "content_square = content_data['square']\n",
    "title_square = title_data['square']\n",
    "\n",
    "cleaned_data[\"square\"] = replace_value(post_square, content_square, title_square)"
   ]
  },
  {
   "cell_type": "markdown",
   "metadata": {},
   "source": [
    "<h3><b>3. Bedroom </h3>"
   ]
  },
  {
   "cell_type": "code",
   "execution_count": 491,
   "metadata": {},
   "outputs": [],
   "source": [
    "post_bedroom = post_data['bedroom']\n",
    "content_bedroom = content_data['bedrooms']\n",
    "title_bedroom = title_data['bedrooms']\n",
    "\n",
    "cleaned_data[\"bedroom\"] = replace_value(post_bedroom, content_bedroom, title_bedroom)"
   ]
  },
  {
   "cell_type": "markdown",
   "metadata": {},
   "source": [
    "<h3><b>4. Bathroom</h3>"
   ]
  },
  {
   "cell_type": "code",
   "execution_count": 492,
   "metadata": {},
   "outputs": [],
   "source": [
    "post_bathroom = post_data['bathroom']\n",
    "content_bathroom = content_data['bathrooms']\n",
    "title_bathroom = title_data['bathrooms']\n",
    "\n",
    "cleaned_data[\"bathroom\"] = replace_value(post_bathroom, content_bathroom, title_bathroom)"
   ]
  },
  {
   "cell_type": "markdown",
   "metadata": {},
   "source": [
    "<h3><b>5. House direction</h3>"
   ]
  },
  {
   "cell_type": "code",
   "execution_count": 493,
   "metadata": {},
   "outputs": [],
   "source": [
    "post_house_direction = post_data['house_direction']\n",
    "content_house_direction = content_data['house_direction']\n",
    "title_house_direction = title_data['house_direction']\n",
    "\n",
    "post_house_direction = post_house_direction.apply(lambda x: x.lower() if x is not np.nan else x)\n",
    "cleaned_data[\"house_direction\"] = replace_value(post_house_direction, content_house_direction, title_house_direction)"
   ]
  },
  {
   "cell_type": "markdown",
   "metadata": {},
   "source": [
    "<h3><b>6. Balcony</h3>"
   ]
  },
  {
   "cell_type": "code",
   "execution_count": 494,
   "metadata": {},
   "outputs": [
    {
     "name": "stderr",
     "output_type": "stream",
     "text": [
      "C:\\Users\\dangm\\AppData\\Local\\Temp\\ipykernel_3024\\1185534400.py:9: FutureWarning: Setting an item of incompatible dtype is deprecated and will raise an error in a future version of pandas. Value '[nan nan nan ... nan nan nan]' has dtype incompatible with bool, please explicitly cast to a compatible dtype first.\n",
      "  title.loc[title_mask] = post.loc[title_mask]\n",
      "C:\\Users\\dangm\\AppData\\Local\\Temp\\ipykernel_3024\\1185534400.py:10: FutureWarning: Setting an item of incompatible dtype is deprecated and will raise an error in a future version of pandas. Value '[nan nan nan ... nan nan nan]' has dtype incompatible with bool, please explicitly cast to a compatible dtype first.\n",
      "  temp.loc[content_mask] = title.loc[content_mask]\n",
      "C:\\Users\\dangm\\AppData\\Local\\Temp\\ipykernel_3024\\4155540165.py:6: FutureWarning: A value is trying to be set on a copy of a DataFrame or Series through chained assignment using an inplace method.\n",
      "The behavior will change in pandas 3.0. This inplace method will never work because the intermediate object on which we are setting values always behaves as a copy.\n",
      "\n",
      "For example, when doing 'df[col].method(value, inplace=True)', try using 'df.method({col: value}, inplace=True)' or df[col] = df[col].method(value) instead, to perform the operation inplace on the original object.\n",
      "\n",
      "\n",
      "  cleaned_data[\"has_balcony\"].replace({np.nan: False, \"Yes\": True}, inplace=True )\n",
      "C:\\Users\\dangm\\AppData\\Local\\Temp\\ipykernel_3024\\4155540165.py:6: FutureWarning: Downcasting behavior in `replace` is deprecated and will be removed in a future version. To retain the old behavior, explicitly call `result.infer_objects(copy=False)`. To opt-in to the future behavior, set `pd.set_option('future.no_silent_downcasting', True)`\n",
      "  cleaned_data[\"has_balcony\"].replace({np.nan: False, \"Yes\": True}, inplace=True )\n"
     ]
    }
   ],
   "source": [
    "post_balcony = post_data['balcony']\n",
    "content_balcony = content_data['balcony']\n",
    "title_balcony = title_data['balcony']\n",
    "\n",
    "cleaned_data[\"has_balcony\"] = replace_value(post_balcony, content_balcony, title_balcony)\n",
    "cleaned_data[\"has_balcony\"].replace({np.nan: False, \"Yes\": True}, inplace=True )"
   ]
  },
  {
   "cell_type": "markdown",
   "metadata": {},
   "source": [
    "<h3><b>7. Furniture</h3>"
   ]
  },
  {
   "cell_type": "code",
   "execution_count": 495,
   "metadata": {},
   "outputs": [
    {
     "name": "stderr",
     "output_type": "stream",
     "text": [
      "C:\\Users\\dangm\\AppData\\Local\\Temp\\ipykernel_3024\\1185534400.py:9: FutureWarning: Setting an item of incompatible dtype is deprecated and will raise an error in a future version of pandas. Value '[nan nan nan ... nan nan nan]' has dtype incompatible with bool, please explicitly cast to a compatible dtype first.\n",
      "  title.loc[title_mask] = post.loc[title_mask]\n",
      "C:\\Users\\dangm\\AppData\\Local\\Temp\\ipykernel_3024\\1185534400.py:10: FutureWarning: Setting an item of incompatible dtype is deprecated and will raise an error in a future version of pandas. Value '[nan nan nan ... nan nan nan]' has dtype incompatible with bool, please explicitly cast to a compatible dtype first.\n",
      "  temp.loc[content_mask] = title.loc[content_mask]\n",
      "C:\\Users\\dangm\\AppData\\Local\\Temp\\ipykernel_3024\\3146817283.py:6: FutureWarning: A value is trying to be set on a copy of a DataFrame or Series through chained assignment using an inplace method.\n",
      "The behavior will change in pandas 3.0. This inplace method will never work because the intermediate object on which we are setting values always behaves as a copy.\n",
      "\n",
      "For example, when doing 'df[col].method(value, inplace=True)', try using 'df.method({col: value}, inplace=True)' or df[col] = df[col].method(value) instead, to perform the operation inplace on the original object.\n",
      "\n",
      "\n",
      "  cleaned_data[\"has_furniture\"].replace({np.nan: False}, inplace=True)\n",
      "C:\\Users\\dangm\\AppData\\Local\\Temp\\ipykernel_3024\\3146817283.py:6: FutureWarning: Downcasting behavior in `replace` is deprecated and will be removed in a future version. To retain the old behavior, explicitly call `result.infer_objects(copy=False)`. To opt-in to the future behavior, set `pd.set_option('future.no_silent_downcasting', True)`\n",
      "  cleaned_data[\"has_furniture\"].replace({np.nan: False}, inplace=True)\n"
     ]
    }
   ],
   "source": [
    "post_furniture = post_data['furniture']\n",
    "content_furniture = content_data['furniture']\n",
    "title_furniture = title_data['furniture']\n",
    "\n",
    "cleaned_data[\"has_furniture\"] = replace_value(post_furniture, content_furniture, title_furniture)\n",
    "cleaned_data[\"has_furniture\"].replace({np.nan: False}, inplace=True)"
   ]
  },
  {
   "cell_type": "markdown",
   "metadata": {},
   "source": [
    "<h3><b>8. Legal information</h3>"
   ]
  },
  {
   "cell_type": "code",
   "execution_count": 496,
   "metadata": {},
   "outputs": [
    {
     "name": "stderr",
     "output_type": "stream",
     "text": [
      "C:\\Users\\dangm\\AppData\\Local\\Temp\\ipykernel_3024\\1185534400.py:9: FutureWarning: Setting an item of incompatible dtype is deprecated and will raise an error in a future version of pandas. Value '[nan nan nan ... nan nan nan]' has dtype incompatible with bool, please explicitly cast to a compatible dtype first.\n",
      "  title.loc[title_mask] = post.loc[title_mask]\n",
      "C:\\Users\\dangm\\AppData\\Local\\Temp\\ipykernel_3024\\1185534400.py:10: FutureWarning: Setting an item of incompatible dtype is deprecated and will raise an error in a future version of pandas. Value '[nan nan nan ... nan nan nan]' has dtype incompatible with bool, please explicitly cast to a compatible dtype first.\n",
      "  temp.loc[content_mask] = title.loc[content_mask]\n",
      "C:\\Users\\dangm\\AppData\\Local\\Temp\\ipykernel_3024\\206263825.py:6: FutureWarning: A value is trying to be set on a copy of a DataFrame or Series through chained assignment using an inplace method.\n",
      "The behavior will change in pandas 3.0. This inplace method will never work because the intermediate object on which we are setting values always behaves as a copy.\n",
      "\n",
      "For example, when doing 'df[col].method(value, inplace=True)', try using 'df.method({col: value}, inplace=True)' or df[col] = df[col].method(value) instead, to perform the operation inplace on the original object.\n",
      "\n",
      "\n",
      "  cleaned_data[\"has_legal_info\"].replace({np.nan: False}, inplace=True)\n",
      "C:\\Users\\dangm\\AppData\\Local\\Temp\\ipykernel_3024\\206263825.py:6: FutureWarning: Downcasting behavior in `replace` is deprecated and will be removed in a future version. To retain the old behavior, explicitly call `result.infer_objects(copy=False)`. To opt-in to the future behavior, set `pd.set_option('future.no_silent_downcasting', True)`\n",
      "  cleaned_data[\"has_legal_info\"].replace({np.nan: False}, inplace=True)\n"
     ]
    }
   ],
   "source": [
    "post_legal_info = post_data['legal_info']\n",
    "content_legal_info = content_data['legal_info']\n",
    "title_legal_info = title_data['legal_info']\n",
    "\n",
    "cleaned_data[\"has_legal_info\"] = replace_value(post_legal_info, content_legal_info, title_legal_info)\n",
    "cleaned_data[\"has_legal_info\"].replace({np.nan: False}, inplace=True)"
   ]
  },
  {
   "cell_type": "markdown",
   "metadata": {},
   "source": [
    "<h3><b>9. Hurried</h3>"
   ]
  },
  {
   "cell_type": "code",
   "execution_count": 497,
   "metadata": {},
   "outputs": [],
   "source": [
    "is_hurried_mask = cleaned_data[(cleaned_data[\"c_hurried\"] == True) | (cleaned_data[\"t_hurried\"] == True)].index.values\n",
    "cleaned_data[\"is_hurried\"] = False\n",
    "cleaned_data.loc[is_hurried_mask, \"is_hurried\"] = True"
   ]
  },
  {
   "cell_type": "markdown",
   "metadata": {},
   "source": [
    "<h3><b>10. Floors</h3>"
   ]
  },
  {
   "cell_type": "code",
   "execution_count": 498,
   "metadata": {},
   "outputs": [],
   "source": [
    "post_floor = title_data['floors'].copy()\n",
    "content_floor = content_data['floors'].copy()\n",
    "title_floor = title_data['floors'].copy()\n",
    "\n",
    "cleaned_data[\"floor\"] = replace_value(post_floor, content_floor, title_floor)"
   ]
  },
  {
   "cell_type": "markdown",
   "metadata": {},
   "source": [
    "<h3><b>11. Basements</h3>"
   ]
  },
  {
   "cell_type": "code",
   "execution_count": 499,
   "metadata": {},
   "outputs": [],
   "source": [
    "post_basement = title_data['basement'].copy()\n",
    "content_basement = content_data['basement'].copy()\n",
    "title_basement = title_data['basement'].copy()\n",
    "\n",
    "cleaned_data[\"has_basement\"] = replace_value(post_basement, content_basement, title_basement)"
   ]
  },
  {
   "cell_type": "markdown",
   "metadata": {},
   "source": [
    "<h3><b>12. House type</h3>"
   ]
  },
  {
   "cell_type": "code",
   "execution_count": 500,
   "metadata": {},
   "outputs": [],
   "source": [
    "cleaned_data[\"house_type\"] = post_data[\"type\"].apply(lambda x: x.lower() if x is not np.nan else x)\n",
    "cleaned_data[\"house_type\"] = cleaned_data[\"house_type\"].apply(lambda x: \"nhà riêng\" if x == \"nhà\" else x)"
   ]
  },
  {
   "cell_type": "code",
   "execution_count": 501,
   "metadata": {},
   "outputs": [],
   "source": [
    "cleaned_data.drop(columns=[\"c_hurried\", \"t_hurried\"], inplace=True)"
   ]
  },
  {
   "cell_type": "code",
   "execution_count": 503,
   "metadata": {},
   "outputs": [
    {
     "name": "stdout",
     "output_type": "stream",
     "text": [
      "Done!\n"
     ]
    }
   ],
   "source": [
    "price = cleaned_data['price']\n",
    "cleaned_data.drop('price', axis=1, inplace=True)\n",
    "cleaned_data['price'] = price\n",
    "\n",
    "cleaned_data.to_csv('./dataset/csv_data/house_data.csv', index=False, encoding=\"utf-8-sig\")\n",
    "print(\"Done!\")"
   ]
  }
 ],
 "metadata": {
  "kernelspec": {
   "display_name": "Python 3",
   "language": "python",
   "name": "python3"
  },
  "language_info": {
   "codemirror_mode": {
    "name": "ipython",
    "version": 3
   },
   "file_extension": ".py",
   "mimetype": "text/x-python",
   "name": "python",
   "nbconvert_exporter": "python",
   "pygments_lexer": "ipython3",
   "version": "3.11.6"
  }
 },
 "nbformat": 4,
 "nbformat_minor": 2
}
